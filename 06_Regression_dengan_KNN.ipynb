{
  "nbformat": 4,
  "nbformat_minor": 0,
  "metadata": {
    "colab": {
      "name": "06 Regression dengan KNN.ipynb",
      "provenance": [],
      "authorship_tag": "ABX9TyNNNzvHaZNqwiZ5cDgkp77o",
      "include_colab_link": true
    },
    "kernelspec": {
      "name": "python3",
      "display_name": "Python 3"
    },
    "language_info": {
      "name": "python"
    }
  },
  "cells": [
    {
      "cell_type": "markdown",
      "metadata": {
        "id": "view-in-github",
        "colab_type": "text"
      },
      "source": [
        "<a href=\"https://colab.research.google.com/github/amilsiddik/machine-Learning/blob/main/06_Regression_dengan_KNN.ipynb\" target=\"_parent\"><img src=\"https://colab.research.google.com/assets/colab-badge.svg\" alt=\"Open In Colab\"/></a>"
      ]
    },
    {
      "cell_type": "markdown",
      "metadata": {
        "id": "2SmMLok5NKb0"
      },
      "source": [
        "**Sample Dataset**"
      ]
    },
    {
      "cell_type": "code",
      "metadata": {
        "colab": {
          "base_uri": "https://localhost:8080/",
          "height": 328
        },
        "id": "KsUPa8_WNFOv",
        "outputId": "bc91235e-c59d-4fcc-e6e2-89141957ed5d"
      },
      "source": [
        "import pandas as pd\n",
        "\n",
        "sensus = {\n",
        "    'tinggi' : [158,170,183,191,155,163,180,158,170],\n",
        "    'jk' :[\n",
        "           'pria','pria','pria','pria','wanita','wanita','wanita','wanita','wanita'\n",
        "    ],\n",
        "    'berat' : [64,86,84,80,49,59,67,54,67]\n",
        "}\n",
        "sensus_df=pd.DataFrame(sensus)\n",
        "sensus_df"
      ],
      "execution_count": 58,
      "outputs": [
        {
          "output_type": "execute_result",
          "data": {
            "text/html": [
              "<div>\n",
              "<style scoped>\n",
              "    .dataframe tbody tr th:only-of-type {\n",
              "        vertical-align: middle;\n",
              "    }\n",
              "\n",
              "    .dataframe tbody tr th {\n",
              "        vertical-align: top;\n",
              "    }\n",
              "\n",
              "    .dataframe thead th {\n",
              "        text-align: right;\n",
              "    }\n",
              "</style>\n",
              "<table border=\"1\" class=\"dataframe\">\n",
              "  <thead>\n",
              "    <tr style=\"text-align: right;\">\n",
              "      <th></th>\n",
              "      <th>tinggi</th>\n",
              "      <th>jk</th>\n",
              "      <th>berat</th>\n",
              "    </tr>\n",
              "  </thead>\n",
              "  <tbody>\n",
              "    <tr>\n",
              "      <th>0</th>\n",
              "      <td>158</td>\n",
              "      <td>pria</td>\n",
              "      <td>64</td>\n",
              "    </tr>\n",
              "    <tr>\n",
              "      <th>1</th>\n",
              "      <td>170</td>\n",
              "      <td>pria</td>\n",
              "      <td>86</td>\n",
              "    </tr>\n",
              "    <tr>\n",
              "      <th>2</th>\n",
              "      <td>183</td>\n",
              "      <td>pria</td>\n",
              "      <td>84</td>\n",
              "    </tr>\n",
              "    <tr>\n",
              "      <th>3</th>\n",
              "      <td>191</td>\n",
              "      <td>pria</td>\n",
              "      <td>80</td>\n",
              "    </tr>\n",
              "    <tr>\n",
              "      <th>4</th>\n",
              "      <td>155</td>\n",
              "      <td>wanita</td>\n",
              "      <td>49</td>\n",
              "    </tr>\n",
              "    <tr>\n",
              "      <th>5</th>\n",
              "      <td>163</td>\n",
              "      <td>wanita</td>\n",
              "      <td>59</td>\n",
              "    </tr>\n",
              "    <tr>\n",
              "      <th>6</th>\n",
              "      <td>180</td>\n",
              "      <td>wanita</td>\n",
              "      <td>67</td>\n",
              "    </tr>\n",
              "    <tr>\n",
              "      <th>7</th>\n",
              "      <td>158</td>\n",
              "      <td>wanita</td>\n",
              "      <td>54</td>\n",
              "    </tr>\n",
              "    <tr>\n",
              "      <th>8</th>\n",
              "      <td>170</td>\n",
              "      <td>wanita</td>\n",
              "      <td>67</td>\n",
              "    </tr>\n",
              "  </tbody>\n",
              "</table>\n",
              "</div>"
            ],
            "text/plain": [
              "   tinggi      jk  berat\n",
              "0     158    pria     64\n",
              "1     170    pria     86\n",
              "2     183    pria     84\n",
              "3     191    pria     80\n",
              "4     155  wanita     49\n",
              "5     163  wanita     59\n",
              "6     180  wanita     67\n",
              "7     158  wanita     54\n",
              "8     170  wanita     67"
            ]
          },
          "metadata": {},
          "execution_count": 58
        }
      ]
    },
    {
      "cell_type": "markdown",
      "metadata": {
        "id": "O1wzYN_nBf_b"
      },
      "source": [
        "Features & Target"
      ]
    },
    {
      "cell_type": "code",
      "metadata": {
        "colab": {
          "base_uri": "https://localhost:8080/"
        },
        "id": "apgvIf0hBjrD",
        "outputId": "b70bc1e9-81ed-438f-ef01-7bc12ae722e7"
      },
      "source": [
        "import numpy as np\n",
        "\n",
        "X_train = np.array(sensus_df[['tinggi','jk']])\n",
        "y_train = np.array(sensus_df['berat'])\n",
        "\n",
        "print(f'X_train : \\n{X_train}\\n')\n",
        "print(f'y_train : {y_train}')"
      ],
      "execution_count": 59,
      "outputs": [
        {
          "output_type": "stream",
          "name": "stdout",
          "text": [
            "X_train : \n",
            "[[158 'pria']\n",
            " [170 'pria']\n",
            " [183 'pria']\n",
            " [191 'pria']\n",
            " [155 'wanita']\n",
            " [163 'wanita']\n",
            " [180 'wanita']\n",
            " [158 'wanita']\n",
            " [170 'wanita']]\n",
            "\n",
            "y_train : [64 86 84 80 49 59 67 54 67]\n"
          ]
        }
      ]
    },
    {
      "cell_type": "markdown",
      "metadata": {
        "id": "YBDbApmJA9AQ"
      },
      "source": [
        "Preprocess Dataset: Konversi Label menjadi Numerik Biner"
      ]
    },
    {
      "cell_type": "code",
      "metadata": {
        "colab": {
          "base_uri": "https://localhost:8080/"
        },
        "id": "Q0vpofUdBETf",
        "outputId": "cd822462-ffd3-495d-fac1-fd8a69e0c9b8"
      },
      "source": [
        "X_train_transposed = np.transpose(X_train)\n",
        "\n",
        "print(f'X_train : \\n{X_train}\\n')\n",
        "print(f'X_train_transposed : {X_train_transposed}')"
      ],
      "execution_count": 60,
      "outputs": [
        {
          "output_type": "stream",
          "name": "stdout",
          "text": [
            "X_train : \n",
            "[[158 'pria']\n",
            " [170 'pria']\n",
            " [183 'pria']\n",
            " [191 'pria']\n",
            " [155 'wanita']\n",
            " [163 'wanita']\n",
            " [180 'wanita']\n",
            " [158 'wanita']\n",
            " [170 'wanita']]\n",
            "\n",
            "X_train_transposed : [[158 170 183 191 155 163 180 158 170]\n",
            " ['pria' 'pria' 'pria' 'pria' 'wanita' 'wanita' 'wanita' 'wanita'\n",
            "  'wanita']]\n"
          ]
        }
      ]
    },
    {
      "cell_type": "code",
      "metadata": {
        "colab": {
          "base_uri": "https://localhost:8080/"
        },
        "id": "bKDITXjACyM1",
        "outputId": "5414ff1c-4fd7-4f99-c479-ee38c25107b2"
      },
      "source": [
        "from sklearn.preprocessing import LabelBinarizer\n",
        "\n",
        "lb=LabelBinarizer()\n",
        "jk_binarised = lb.fit_transform(X_train_transposed[1])\n",
        "\n",
        "print(f' jk: {X_train_transposed[1]}\\n')\n",
        "print(f'jk_binarised : \\n{jk_binarised}')"
      ],
      "execution_count": 61,
      "outputs": [
        {
          "output_type": "stream",
          "name": "stdout",
          "text": [
            " jk: ['pria' 'pria' 'pria' 'pria' 'wanita' 'wanita' 'wanita' 'wanita' 'wanita']\n",
            "\n",
            "jk_binarised : \n",
            "[[0]\n",
            " [0]\n",
            " [0]\n",
            " [0]\n",
            " [1]\n",
            " [1]\n",
            " [1]\n",
            " [1]\n",
            " [1]]\n"
          ]
        }
      ]
    },
    {
      "cell_type": "code",
      "metadata": {
        "colab": {
          "base_uri": "https://localhost:8080/"
        },
        "id": "C8qxxhFBDvCd",
        "outputId": "7adb0015-9555-4d7e-9c7e-f8b75672451f"
      },
      "source": [
        "jk_binarised = jk_binarised.flatten()\n",
        "jk_binarised"
      ],
      "execution_count": 64,
      "outputs": [
        {
          "output_type": "execute_result",
          "data": {
            "text/plain": [
              "array([0, 0, 0, 0, 1, 1, 1, 1, 1])"
            ]
          },
          "metadata": {},
          "execution_count": 64
        }
      ]
    },
    {
      "cell_type": "code",
      "metadata": {
        "id": "qrhnI7MlEwlK",
        "colab": {
          "base_uri": "https://localhost:8080/"
        },
        "outputId": "9b421a5d-a5d9-447c-d5a5-95514dc9c33b"
      },
      "source": [
        "X_train_transposed[1] = jk_binarised\n",
        "X_train = X_train_transposed.transpose()\n",
        "\n",
        "print(f'X_train_transposed : \\n{X_train_transposed}\\n')\n",
        "print(f'X_train: \\n{X_train}')"
      ],
      "execution_count": 65,
      "outputs": [
        {
          "output_type": "stream",
          "name": "stdout",
          "text": [
            "X_train_transposed : \n",
            "[[158 170 183 191 155 163 180 158 170]\n",
            " [0 0 0 0 1 1 1 1 1]]\n",
            "\n",
            "X_train: \n",
            "[[158 0]\n",
            " [170 0]\n",
            " [183 0]\n",
            " [191 0]\n",
            " [155 1]\n",
            " [163 1]\n",
            " [180 1]\n",
            " [158 1]\n",
            " [170 1]]\n"
          ]
        }
      ]
    },
    {
      "cell_type": "markdown",
      "metadata": {
        "id": "KlAsAVusKgyz"
      },
      "source": [
        "Training KNN Regression Model"
      ]
    },
    {
      "cell_type": "code",
      "metadata": {
        "id": "VLyLR85NKkfh",
        "colab": {
          "base_uri": "https://localhost:8080/"
        },
        "outputId": "8f9c2e33-9cc8-45e2-8422-af6f5c5dee03"
      },
      "source": [
        "from sklearn.neighbors import KNeighborsRegressor\n",
        "\n",
        "K=3\n",
        "model = KNeighborsRegressor(n_neighbors=K)\n",
        "model.fit(X_train,y_train)"
      ],
      "execution_count": 66,
      "outputs": [
        {
          "output_type": "execute_result",
          "data": {
            "text/plain": [
              "KNeighborsRegressor(algorithm='auto', leaf_size=30, metric='minkowski',\n",
              "                    metric_params=None, n_jobs=None, n_neighbors=3, p=2,\n",
              "                    weights='uniform')"
            ]
          },
          "metadata": {},
          "execution_count": 66
        }
      ]
    },
    {
      "cell_type": "markdown",
      "metadata": {
        "id": "FGE1n0FZkywK"
      },
      "source": [
        "Prediksi Berat Badan"
      ]
    },
    {
      "cell_type": "code",
      "metadata": {
        "id": "URpXMQa8k1Lp",
        "colab": {
          "base_uri": "https://localhost:8080/"
        },
        "outputId": "d1b123ee-9230-4411-bc6d-7605763b0af1"
      },
      "source": [
        "X_new=np.array([[155,1]])\n",
        "X_new"
      ],
      "execution_count": 67,
      "outputs": [
        {
          "output_type": "execute_result",
          "data": {
            "text/plain": [
              "array([[155,   1]])"
            ]
          },
          "metadata": {},
          "execution_count": 67
        }
      ]
    },
    {
      "cell_type": "code",
      "metadata": {
        "id": "duDWt52kk8jw",
        "colab": {
          "base_uri": "https://localhost:8080/"
        },
        "outputId": "b92e3131-23c6-43c1-b791-d5c3b530d2a4"
      },
      "source": [
        "y_pred=model.predict(X_new)\n",
        "y_pred"
      ],
      "execution_count": 68,
      "outputs": [
        {
          "output_type": "execute_result",
          "data": {
            "text/plain": [
              "array([55.66666667])"
            ]
          },
          "metadata": {},
          "execution_count": 68
        }
      ]
    },
    {
      "cell_type": "markdown",
      "metadata": {
        "id": "XvNWketxlVpp"
      },
      "source": [
        "Evaluasi KNN Regresi Model"
      ]
    },
    {
      "cell_type": "code",
      "metadata": {
        "id": "IGZs63jSlZQj",
        "colab": {
          "base_uri": "https://localhost:8080/"
        },
        "outputId": "f90b976d-50e5-43d5-ee1d-cad6d974ab45"
      },
      "source": [
        "X_test = np.array([[168,0],[180,0],[160,1],[169,1]])\n",
        "y_test = np.array([65,96,52,67])\n",
        "\n",
        "print(f'X_test : \\n{X_test}\\n')\n",
        "print(f'y_test:{y_test}')"
      ],
      "execution_count": 74,
      "outputs": [
        {
          "output_type": "stream",
          "name": "stdout",
          "text": [
            "X_test : \n",
            "[[168   0]\n",
            " [180   0]\n",
            " [160   1]\n",
            " [169   1]]\n",
            "\n",
            "y_test:[65 96 52 67]\n"
          ]
        }
      ]
    },
    {
      "cell_type": "code",
      "metadata": {
        "id": "6sCrxU_smG_3",
        "colab": {
          "base_uri": "https://localhost:8080/"
        },
        "outputId": "ec855623-4098-4521-b6a1-fe3e32f4b11e"
      },
      "source": [
        "y_pred = model.predict(X_test)\n",
        "y_pred"
      ],
      "execution_count": 85,
      "outputs": [
        {
          "output_type": "execute_result",
          "data": {
            "text/plain": [
              "array([77., 77., 77., 77.])"
            ]
          },
          "metadata": {},
          "execution_count": 85
        }
      ]
    },
    {
      "cell_type": "markdown",
      "metadata": {
        "id": "wpW4UtGAodlh"
      },
      "source": [
        "Coefficient of Determination atau R^2 (semakin mendekati 1, model semakin baik)"
      ]
    },
    {
      "cell_type": "code",
      "metadata": {
        "id": "jzAHYt9oo6Fc",
        "colab": {
          "base_uri": "https://localhost:8080/"
        },
        "outputId": "691fe506-e524-4816-d522-7e8cc8cb62ca"
      },
      "source": [
        "from sklearn.metrics import r2_score\n",
        "r_squared = r2_score(y_test,y_pred)\n",
        "r_squared"
      ],
      "execution_count": 86,
      "outputs": [
        {
          "output_type": "execute_result",
          "data": {
            "text/plain": [
              "-0.1895551257253385"
            ]
          },
          "metadata": {},
          "execution_count": 86
        }
      ]
    },
    {
      "cell_type": "markdown",
      "metadata": {
        "id": "fnXT8ZmQqu04"
      },
      "source": [
        "Mean Absolute Error (MAE) (semakin kecil nilai MAE, maka kualita model semakin baik)"
      ]
    },
    {
      "cell_type": "code",
      "metadata": {
        "id": "3Cn5c3GlqyHT",
        "colab": {
          "base_uri": "https://localhost:8080/"
        },
        "outputId": "ca54ddf2-3f07-4378-a20e-de100af4c219"
      },
      "source": [
        "from sklearn.metrics import mean_absolute_error\n",
        "\n",
        "MAE = mean_absolute_error(y_test,y_pred)\n",
        "\n",
        "MAE"
      ],
      "execution_count": 76,
      "outputs": [
        {
          "output_type": "execute_result",
          "data": {
            "text/plain": [
              "8.333333333333336"
            ]
          },
          "metadata": {},
          "execution_count": 76
        }
      ]
    },
    {
      "cell_type": "markdown",
      "metadata": {
        "id": "c1Hiszpnrej6"
      },
      "source": [
        "Mean Square Error MSE (Makin kecil nilai MAE, maka model akan semakin baik)"
      ]
    },
    {
      "cell_type": "code",
      "metadata": {
        "id": "rMKTgHvNrd2d",
        "colab": {
          "base_uri": "https://localhost:8080/"
        },
        "outputId": "24fd4cc8-d68a-4c4b-9682-0176fc95d26a"
      },
      "source": [
        "from sklearn.metrics import mean_squared_error\n",
        "\n",
        "MSE = mean_squared_error(y_test,y_pred)\n",
        "\n",
        "MSE"
      ],
      "execution_count": 73,
      "outputs": [
        {
          "output_type": "execute_result",
          "data": {
            "text/plain": [
              "95.8888888888889"
            ]
          },
          "metadata": {},
          "execution_count": 73
        }
      ]
    },
    {
      "cell_type": "markdown",
      "metadata": {
        "id": "n80UhHK_svlV"
      },
      "source": [
        "Masalah yang dialami pada scaling feature yakni perbedaan satuan dapat berpengaruh pada jarak euclidean. Maka dari itu perlu digunakan standard scaler (atau standar score atau Z Score)\n",
        "\n",
        "\n"
      ]
    },
    {
      "cell_type": "markdown",
      "metadata": {
        "id": "IoNLtwaBpy-g"
      },
      "source": [
        "Menerapkan Feature Scaling pada KNN"
      ]
    },
    {
      "cell_type": "code",
      "metadata": {
        "id": "dAk-npdetMwz"
      },
      "source": [
        "X_train = np.array([[158,0],[170,0],[183,0],[191,0],[155,1],[163,1],[180,1],[158,1],[170,1]])\n",
        "y_train = np.array([64,86,84,80,49,59,67,54,67])\n",
        "\n",
        "X_test = np.array([[168,0],[180,0],[160,1],[169,1]])\n",
        "y_test = np.array([65,96,52,67])"
      ],
      "execution_count": 77,
      "outputs": []
    },
    {
      "cell_type": "markdown",
      "metadata": {
        "id": "7LrlZxgysLNV"
      },
      "source": [
        "Feature Scaling(Standard Scaling)"
      ]
    },
    {
      "cell_type": "code",
      "metadata": {
        "id": "tmjYQYVntXiR",
        "outputId": "9a9eb79c-9e19-446a-b610-72352ca3e597",
        "colab": {
          "base_uri": "https://localhost:8080/"
        }
      },
      "source": [
        "from sklearn.preprocessing import StandardScaler\n",
        "ss=StandardScaler()\n",
        "\n",
        "X_train_scaled=ss.fit_transform(X_train)\n",
        "X_test_scaled=ss.transform(X_test)\n",
        "\n",
        "print(f'X_train scaled :\\n{X_train_scaled}\\n')\n",
        "print(f'X_test_scaled: \\n{X_test_scaled}\\n')"
      ],
      "execution_count": 83,
      "outputs": [
        {
          "output_type": "stream",
          "name": "stdout",
          "text": [
            "X_train scaled :\n",
            "[[-0.9908706  -1.11803399]\n",
            " [ 0.01869567 -1.11803399]\n",
            " [ 1.11239246 -1.11803399]\n",
            " [ 1.78543664 -1.11803399]\n",
            " [-1.24326216  0.89442719]\n",
            " [-0.57021798  0.89442719]\n",
            " [ 0.86000089  0.89442719]\n",
            " [-0.9908706   0.89442719]\n",
            " [ 0.01869567  0.89442719]]\n",
            "\n",
            "X_test_scaled: \n",
            "[[-0.14956537 -1.11803399]\n",
            " [ 0.86000089 -1.11803399]\n",
            " [-0.82260955  0.89442719]\n",
            " [-0.06543485  0.89442719]]\n",
            "\n"
          ]
        }
      ]
    },
    {
      "cell_type": "markdown",
      "metadata": {
        "id": "yCaSGkP9sQyh"
      },
      "source": [
        "Training dan Evaluasi model"
      ]
    },
    {
      "cell_type": "code",
      "metadata": {
        "id": "Tw3fXD4FsUD0",
        "outputId": "b93c7b86-eece-4a13-dff2-70b458ff3b91",
        "colab": {
          "base_uri": "https://localhost:8080/"
        }
      },
      "source": [
        "model.fit(X_train_scaled,y_train)\n",
        "y_pred = model.predict(X_test_scaled)\n",
        "\n",
        "MAE = mean_absolute_error(y_test,y_pred)\n",
        "MSE = mean_squared_error(y_test,y_pred)\n",
        "\n",
        "print(f' MAE: \\n{MAE}\\n')\n",
        "print(f'MSE : \\n{MSE}\\n')"
      ],
      "execution_count": 88,
      "outputs": [
        {
          "output_type": "stream",
          "name": "stdout",
          "text": [
            " MAE: \n",
            "7.583333333333336\n",
            "\n",
            "MSE : \n",
            "85.13888888888893\n",
            "\n"
          ]
        }
      ]
    }
  ]
}