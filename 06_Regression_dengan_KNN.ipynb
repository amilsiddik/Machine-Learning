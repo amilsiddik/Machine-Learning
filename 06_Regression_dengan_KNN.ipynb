{
  "nbformat": 4,
  "nbformat_minor": 0,
  "metadata": {
    "colab": {
      "name": "06 Regression dengan KNN.ipynb",
      "provenance": [],
      "authorship_tag": "ABX9TyNAMySb0vTElg442sVVKkFM",
      "include_colab_link": true
    },
    "kernelspec": {
      "name": "python3",
      "display_name": "Python 3"
    },
    "language_info": {
      "name": "python"
    }
  },
  "cells": [
    {
      "cell_type": "markdown",
      "metadata": {
        "id": "view-in-github",
        "colab_type": "text"
      },
      "source": [
        "<a href=\"https://colab.research.google.com/github/amilsiddik/machine-Learning/blob/main/06_Regression_dengan_KNN.ipynb\" target=\"_parent\"><img src=\"https://colab.research.google.com/assets/colab-badge.svg\" alt=\"Open In Colab\"/></a>"
      ]
    },
    {
      "cell_type": "markdown",
      "metadata": {
        "id": "2SmMLok5NKb0"
      },
      "source": [
        "**Sample Dataset**"
      ]
    },
    {
      "cell_type": "code",
      "metadata": {
        "colab": {
          "base_uri": "https://localhost:8080/",
          "height": 332
        },
        "id": "KsUPa8_WNFOv",
        "outputId": "8926c5ee-c493-4414-eef5-3ba54d5c3aa6"
      },
      "source": [
        "import pandas as pd\n",
        "\n",
        "sensus = {\n",
        "    'tinggi' : [158,170,183,191,155,163,180,158,178],\n",
        "    'berat' : [64,86,84,80,49,59,67,54,67],\n",
        "    'jk' :[\n",
        "           'pria','pria','pria','pria','wanita','wanita','wanita','wanita','wanita'\n",
        "    ]\n",
        "}\n",
        "sensus_df=pd.DataFrame(sensus)\n",
        "sensus_df"
      ],
      "execution_count": 1,
      "outputs": [
        {
          "output_type": "execute_result",
          "data": {
            "text/html": [
              "<div>\n",
              "<style scoped>\n",
              "    .dataframe tbody tr th:only-of-type {\n",
              "        vertical-align: middle;\n",
              "    }\n",
              "\n",
              "    .dataframe tbody tr th {\n",
              "        vertical-align: top;\n",
              "    }\n",
              "\n",
              "    .dataframe thead th {\n",
              "        text-align: right;\n",
              "    }\n",
              "</style>\n",
              "<table border=\"1\" class=\"dataframe\">\n",
              "  <thead>\n",
              "    <tr style=\"text-align: right;\">\n",
              "      <th></th>\n",
              "      <th>tinggi</th>\n",
              "      <th>berat</th>\n",
              "      <th>jk</th>\n",
              "    </tr>\n",
              "  </thead>\n",
              "  <tbody>\n",
              "    <tr>\n",
              "      <th>0</th>\n",
              "      <td>158</td>\n",
              "      <td>64</td>\n",
              "      <td>pria</td>\n",
              "    </tr>\n",
              "    <tr>\n",
              "      <th>1</th>\n",
              "      <td>170</td>\n",
              "      <td>86</td>\n",
              "      <td>pria</td>\n",
              "    </tr>\n",
              "    <tr>\n",
              "      <th>2</th>\n",
              "      <td>183</td>\n",
              "      <td>84</td>\n",
              "      <td>pria</td>\n",
              "    </tr>\n",
              "    <tr>\n",
              "      <th>3</th>\n",
              "      <td>191</td>\n",
              "      <td>80</td>\n",
              "      <td>pria</td>\n",
              "    </tr>\n",
              "    <tr>\n",
              "      <th>4</th>\n",
              "      <td>155</td>\n",
              "      <td>49</td>\n",
              "      <td>wanita</td>\n",
              "    </tr>\n",
              "    <tr>\n",
              "      <th>5</th>\n",
              "      <td>163</td>\n",
              "      <td>59</td>\n",
              "      <td>wanita</td>\n",
              "    </tr>\n",
              "    <tr>\n",
              "      <th>6</th>\n",
              "      <td>180</td>\n",
              "      <td>67</td>\n",
              "      <td>wanita</td>\n",
              "    </tr>\n",
              "    <tr>\n",
              "      <th>7</th>\n",
              "      <td>158</td>\n",
              "      <td>54</td>\n",
              "      <td>wanita</td>\n",
              "    </tr>\n",
              "    <tr>\n",
              "      <th>8</th>\n",
              "      <td>178</td>\n",
              "      <td>67</td>\n",
              "      <td>wanita</td>\n",
              "    </tr>\n",
              "  </tbody>\n",
              "</table>\n",
              "</div>"
            ],
            "text/plain": [
              "   tinggi  berat      jk\n",
              "0     158     64    pria\n",
              "1     170     86    pria\n",
              "2     183     84    pria\n",
              "3     191     80    pria\n",
              "4     155     49  wanita\n",
              "5     163     59  wanita\n",
              "6     180     67  wanita\n",
              "7     158     54  wanita\n",
              "8     178     67  wanita"
            ]
          },
          "metadata": {},
          "execution_count": 1
        }
      ]
    }
  ]
}