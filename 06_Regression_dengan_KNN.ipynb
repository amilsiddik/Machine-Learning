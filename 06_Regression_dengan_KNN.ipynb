{
  "nbformat": 4,
  "nbformat_minor": 0,
  "metadata": {
    "colab": {
      "name": "06 Regression dengan KNN.ipynb",
      "provenance": [],
      "authorship_tag": "ABX9TyP2cuQyKGrim9DsUp/poBQv",
      "include_colab_link": true
    },
    "kernelspec": {
      "name": "python3",
      "display_name": "Python 3"
    },
    "language_info": {
      "name": "python"
    }
  },
  "cells": [
    {
      "cell_type": "markdown",
      "metadata": {
        "id": "view-in-github",
        "colab_type": "text"
      },
      "source": [
        "<a href=\"https://colab.research.google.com/github/amilsiddik/machine-Learning/blob/main/06_Regression_dengan_KNN.ipynb\" target=\"_parent\"><img src=\"https://colab.research.google.com/assets/colab-badge.svg\" alt=\"Open In Colab\"/></a>"
      ]
    },
    {
      "cell_type": "markdown",
      "metadata": {
        "id": "2SmMLok5NKb0"
      },
      "source": [
        "**Sample Dataset**"
      ]
    },
    {
      "cell_type": "code",
      "metadata": {
        "colab": {
          "base_uri": "https://localhost:8080/",
          "height": 328
        },
        "id": "KsUPa8_WNFOv",
        "outputId": "568e32cf-98d3-4542-e3a0-c9bb2c9d8dec"
      },
      "source": [
        "import pandas as pd\n",
        "\n",
        "sensus = {\n",
        "    'tinggi' : [158,170,183,191,155,163,180,158,178],\n",
        "    'jk' :[\n",
        "           'pria','pria','pria','pria','wanita','wanita','wanita','wanita','wanita'\n",
        "    ],\n",
        "    'berat' : [64,86,84,80,49,59,67,54,67]\n",
        "}\n",
        "sensus_df=pd.DataFrame(sensus)\n",
        "sensus_df"
      ],
      "execution_count": 2,
      "outputs": [
        {
          "output_type": "execute_result",
          "data": {
            "text/html": [
              "<div>\n",
              "<style scoped>\n",
              "    .dataframe tbody tr th:only-of-type {\n",
              "        vertical-align: middle;\n",
              "    }\n",
              "\n",
              "    .dataframe tbody tr th {\n",
              "        vertical-align: top;\n",
              "    }\n",
              "\n",
              "    .dataframe thead th {\n",
              "        text-align: right;\n",
              "    }\n",
              "</style>\n",
              "<table border=\"1\" class=\"dataframe\">\n",
              "  <thead>\n",
              "    <tr style=\"text-align: right;\">\n",
              "      <th></th>\n",
              "      <th>tinggi</th>\n",
              "      <th>jk</th>\n",
              "      <th>berat</th>\n",
              "    </tr>\n",
              "  </thead>\n",
              "  <tbody>\n",
              "    <tr>\n",
              "      <th>0</th>\n",
              "      <td>158</td>\n",
              "      <td>pria</td>\n",
              "      <td>64</td>\n",
              "    </tr>\n",
              "    <tr>\n",
              "      <th>1</th>\n",
              "      <td>170</td>\n",
              "      <td>pria</td>\n",
              "      <td>86</td>\n",
              "    </tr>\n",
              "    <tr>\n",
              "      <th>2</th>\n",
              "      <td>183</td>\n",
              "      <td>pria</td>\n",
              "      <td>84</td>\n",
              "    </tr>\n",
              "    <tr>\n",
              "      <th>3</th>\n",
              "      <td>191</td>\n",
              "      <td>pria</td>\n",
              "      <td>80</td>\n",
              "    </tr>\n",
              "    <tr>\n",
              "      <th>4</th>\n",
              "      <td>155</td>\n",
              "      <td>wanita</td>\n",
              "      <td>49</td>\n",
              "    </tr>\n",
              "    <tr>\n",
              "      <th>5</th>\n",
              "      <td>163</td>\n",
              "      <td>wanita</td>\n",
              "      <td>59</td>\n",
              "    </tr>\n",
              "    <tr>\n",
              "      <th>6</th>\n",
              "      <td>180</td>\n",
              "      <td>wanita</td>\n",
              "      <td>67</td>\n",
              "    </tr>\n",
              "    <tr>\n",
              "      <th>7</th>\n",
              "      <td>158</td>\n",
              "      <td>wanita</td>\n",
              "      <td>54</td>\n",
              "    </tr>\n",
              "    <tr>\n",
              "      <th>8</th>\n",
              "      <td>178</td>\n",
              "      <td>wanita</td>\n",
              "      <td>67</td>\n",
              "    </tr>\n",
              "  </tbody>\n",
              "</table>\n",
              "</div>"
            ],
            "text/plain": [
              "   tinggi      jk  berat\n",
              "0     158    pria     64\n",
              "1     170    pria     86\n",
              "2     183    pria     84\n",
              "3     191    pria     80\n",
              "4     155  wanita     49\n",
              "5     163  wanita     59\n",
              "6     180  wanita     67\n",
              "7     158  wanita     54\n",
              "8     178  wanita     67"
            ]
          },
          "metadata": {},
          "execution_count": 2
        }
      ]
    },
    {
      "cell_type": "markdown",
      "metadata": {
        "id": "O1wzYN_nBf_b"
      },
      "source": [
        "Features & Target"
      ]
    },
    {
      "cell_type": "code",
      "metadata": {
        "id": "apgvIf0hBjrD",
        "outputId": "faf12cc1-7b47-4593-e067-74ff500e7472",
        "colab": {
          "base_uri": "https://localhost:8080/"
        }
      },
      "source": [
        "import numpy as np\n",
        "\n",
        "X_train = np.array(sensus_df[['tinggi','jk']])\n",
        "y_train = np.array(sensus_df['berat'])\n",
        "\n",
        "print(f'X_train : \\n{X_train}\\n')\n",
        "print(f'y_train : {y_train}')"
      ],
      "execution_count": 4,
      "outputs": [
        {
          "output_type": "stream",
          "name": "stdout",
          "text": [
            "X_train : \n",
            "[[158 'pria']\n",
            " [170 'pria']\n",
            " [183 'pria']\n",
            " [191 'pria']\n",
            " [155 'wanita']\n",
            " [163 'wanita']\n",
            " [180 'wanita']\n",
            " [158 'wanita']\n",
            " [178 'wanita']]\n",
            "\n",
            "y_train : [64 86 84 80 49 59 67 54 67]\n"
          ]
        }
      ]
    },
    {
      "cell_type": "markdown",
      "metadata": {
        "id": "YBDbApmJA9AQ"
      },
      "source": [
        "Preprocess Dataset: Konversi Label menjadi Numerik Biner"
      ]
    },
    {
      "cell_type": "code",
      "metadata": {
        "id": "Q0vpofUdBETf",
        "outputId": "5ba32293-0542-49cd-8fc2-3207bbc83fc3",
        "colab": {
          "base_uri": "https://localhost:8080/"
        }
      },
      "source": [
        "X_train_transposed = np.transpose(X_train)\n",
        "\n",
        "print(f'X_train : \\n{X_train}\\n')\n",
        "print(f'X_train_transposed : {X_train_transposed}')"
      ],
      "execution_count": 5,
      "outputs": [
        {
          "output_type": "stream",
          "name": "stdout",
          "text": [
            "X_train : \n",
            "[[158 'pria']\n",
            " [170 'pria']\n",
            " [183 'pria']\n",
            " [191 'pria']\n",
            " [155 'wanita']\n",
            " [163 'wanita']\n",
            " [180 'wanita']\n",
            " [158 'wanita']\n",
            " [178 'wanita']]\n",
            "\n",
            "X_train_transposed : [[158 170 183 191 155 163 180 158 178]\n",
            " ['pria' 'pria' 'pria' 'pria' 'wanita' 'wanita' 'wanita' 'wanita'\n",
            "  'wanita']]\n"
          ]
        }
      ]
    },
    {
      "cell_type": "code",
      "metadata": {
        "id": "bKDITXjACyM1",
        "outputId": "e6eabcf8-d4dc-4d95-ca28-a54d674475a8",
        "colab": {
          "base_uri": "https://localhost:8080/"
        }
      },
      "source": [
        "from sklearn.preprocessing import LabelBinarizer\n",
        "\n",
        "lb=LabelBinarizer()\n",
        "jk_binarised = lb.fit_transform(X_train_transposed[1])\n",
        "\n",
        "print(f' jk: {X_train_transposed[1]}\\n')\n",
        "print(f'jk_binarised : \\n{jk_binarised}')"
      ],
      "execution_count": 10,
      "outputs": [
        {
          "output_type": "stream",
          "name": "stdout",
          "text": [
            " jk: ['pria' 'pria' 'pria' 'pria' 'wanita' 'wanita' 'wanita' 'wanita' 'wanita']\n",
            "\n",
            "jk_binarised : \n",
            "[[0]\n",
            " [0]\n",
            " [0]\n",
            " [0]\n",
            " [1]\n",
            " [1]\n",
            " [1]\n",
            " [1]\n",
            " [1]]\n"
          ]
        }
      ]
    },
    {
      "cell_type": "code",
      "metadata": {
        "id": "C8qxxhFBDvCd",
        "outputId": "e848a349-dda4-418b-cd10-fab96dd67ba4",
        "colab": {
          "base_uri": "https://localhost:8080/"
        }
      },
      "source": [
        "jk_binarised = jk_binarised.flatten()\n",
        "jk_binarised"
      ],
      "execution_count": 11,
      "outputs": [
        {
          "output_type": "execute_result",
          "data": {
            "text/plain": [
              "array([0, 0, 0, 0, 1, 1, 1, 1, 1])"
            ]
          },
          "metadata": {},
          "execution_count": 11
        }
      ]
    }
  ]
}