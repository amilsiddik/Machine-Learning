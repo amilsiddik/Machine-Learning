{
  "nbformat": 4,
  "nbformat_minor": 0,
  "metadata": {
    "colab": {
      "name": "06 Regression dengan KNN.ipynb",
      "provenance": [],
      "authorship_tag": "ABX9TyP/QcMGyING3kI08We5iOz/",
      "include_colab_link": true
    },
    "kernelspec": {
      "name": "python3",
      "display_name": "Python 3"
    },
    "language_info": {
      "name": "python"
    }
  },
  "cells": [
    {
      "cell_type": "markdown",
      "metadata": {
        "id": "view-in-github",
        "colab_type": "text"
      },
      "source": [
        "<a href=\"https://colab.research.google.com/github/amilsiddik/machine-Learning/blob/main/06_Regression_dengan_KNN.ipynb\" target=\"_parent\"><img src=\"https://colab.research.google.com/assets/colab-badge.svg\" alt=\"Open In Colab\"/></a>"
      ]
    },
    {
      "cell_type": "markdown",
      "metadata": {
        "id": "2SmMLok5NKb0"
      },
      "source": [
        "**Sample Dataset**"
      ]
    },
    {
      "cell_type": "code",
      "metadata": {
        "colab": {
          "base_uri": "https://localhost:8080/",
          "height": 328
        },
        "id": "KsUPa8_WNFOv",
        "outputId": "c4487e5c-5344-4e8d-a7f4-ffcf0b411370"
      },
      "source": [
        "import pandas as pd\n",
        "\n",
        "sensus = {\n",
        "    'tinggi' : [158,170,183,191,155,163,180,158,178],\n",
        "    'jk' :[\n",
        "           'pria','pria','pria','pria','wanita','wanita','wanita','wanita','wanita'\n",
        "    ],\n",
        "    'berat' : [64,86,84,80,49,59,67,54,67]\n",
        "}\n",
        "sensus_df=pd.DataFrame(sensus)\n",
        "sensus_df"
      ],
      "execution_count": 14,
      "outputs": [
        {
          "output_type": "execute_result",
          "data": {
            "text/html": [
              "<div>\n",
              "<style scoped>\n",
              "    .dataframe tbody tr th:only-of-type {\n",
              "        vertical-align: middle;\n",
              "    }\n",
              "\n",
              "    .dataframe tbody tr th {\n",
              "        vertical-align: top;\n",
              "    }\n",
              "\n",
              "    .dataframe thead th {\n",
              "        text-align: right;\n",
              "    }\n",
              "</style>\n",
              "<table border=\"1\" class=\"dataframe\">\n",
              "  <thead>\n",
              "    <tr style=\"text-align: right;\">\n",
              "      <th></th>\n",
              "      <th>tinggi</th>\n",
              "      <th>jk</th>\n",
              "      <th>berat</th>\n",
              "    </tr>\n",
              "  </thead>\n",
              "  <tbody>\n",
              "    <tr>\n",
              "      <th>0</th>\n",
              "      <td>158</td>\n",
              "      <td>pria</td>\n",
              "      <td>64</td>\n",
              "    </tr>\n",
              "    <tr>\n",
              "      <th>1</th>\n",
              "      <td>170</td>\n",
              "      <td>pria</td>\n",
              "      <td>86</td>\n",
              "    </tr>\n",
              "    <tr>\n",
              "      <th>2</th>\n",
              "      <td>183</td>\n",
              "      <td>pria</td>\n",
              "      <td>84</td>\n",
              "    </tr>\n",
              "    <tr>\n",
              "      <th>3</th>\n",
              "      <td>191</td>\n",
              "      <td>pria</td>\n",
              "      <td>80</td>\n",
              "    </tr>\n",
              "    <tr>\n",
              "      <th>4</th>\n",
              "      <td>155</td>\n",
              "      <td>wanita</td>\n",
              "      <td>49</td>\n",
              "    </tr>\n",
              "    <tr>\n",
              "      <th>5</th>\n",
              "      <td>163</td>\n",
              "      <td>wanita</td>\n",
              "      <td>59</td>\n",
              "    </tr>\n",
              "    <tr>\n",
              "      <th>6</th>\n",
              "      <td>180</td>\n",
              "      <td>wanita</td>\n",
              "      <td>67</td>\n",
              "    </tr>\n",
              "    <tr>\n",
              "      <th>7</th>\n",
              "      <td>158</td>\n",
              "      <td>wanita</td>\n",
              "      <td>54</td>\n",
              "    </tr>\n",
              "    <tr>\n",
              "      <th>8</th>\n",
              "      <td>178</td>\n",
              "      <td>wanita</td>\n",
              "      <td>67</td>\n",
              "    </tr>\n",
              "  </tbody>\n",
              "</table>\n",
              "</div>"
            ],
            "text/plain": [
              "   tinggi      jk  berat\n",
              "0     158    pria     64\n",
              "1     170    pria     86\n",
              "2     183    pria     84\n",
              "3     191    pria     80\n",
              "4     155  wanita     49\n",
              "5     163  wanita     59\n",
              "6     180  wanita     67\n",
              "7     158  wanita     54\n",
              "8     178  wanita     67"
            ]
          },
          "metadata": {},
          "execution_count": 14
        }
      ]
    },
    {
      "cell_type": "markdown",
      "metadata": {
        "id": "O1wzYN_nBf_b"
      },
      "source": [
        "Features & Target"
      ]
    },
    {
      "cell_type": "code",
      "metadata": {
        "colab": {
          "base_uri": "https://localhost:8080/"
        },
        "id": "apgvIf0hBjrD",
        "outputId": "ea798077-0a19-4f03-f71a-9797dc22d366"
      },
      "source": [
        "import numpy as np\n",
        "\n",
        "X_train = np.array(sensus_df[['tinggi','jk']])\n",
        "y_train = np.array(sensus_df['berat'])\n",
        "\n",
        "print(f'X_train : \\n{X_train}\\n')\n",
        "print(f'y_train : {y_train}')"
      ],
      "execution_count": 15,
      "outputs": [
        {
          "output_type": "stream",
          "name": "stdout",
          "text": [
            "X_train : \n",
            "[[158 'pria']\n",
            " [170 'pria']\n",
            " [183 'pria']\n",
            " [191 'pria']\n",
            " [155 'wanita']\n",
            " [163 'wanita']\n",
            " [180 'wanita']\n",
            " [158 'wanita']\n",
            " [178 'wanita']]\n",
            "\n",
            "y_train : [64 86 84 80 49 59 67 54 67]\n"
          ]
        }
      ]
    },
    {
      "cell_type": "markdown",
      "metadata": {
        "id": "YBDbApmJA9AQ"
      },
      "source": [
        "Preprocess Dataset: Konversi Label menjadi Numerik Biner"
      ]
    },
    {
      "cell_type": "code",
      "metadata": {
        "colab": {
          "base_uri": "https://localhost:8080/"
        },
        "id": "Q0vpofUdBETf",
        "outputId": "b27480d8-a33d-447d-8607-9b05df8a4eaf"
      },
      "source": [
        "X_train_transposed = np.transpose(X_train)\n",
        "\n",
        "print(f'X_train : \\n{X_train}\\n')\n",
        "print(f'X_train_transposed : {X_train_transposed}')"
      ],
      "execution_count": 16,
      "outputs": [
        {
          "output_type": "stream",
          "name": "stdout",
          "text": [
            "X_train : \n",
            "[[158 'pria']\n",
            " [170 'pria']\n",
            " [183 'pria']\n",
            " [191 'pria']\n",
            " [155 'wanita']\n",
            " [163 'wanita']\n",
            " [180 'wanita']\n",
            " [158 'wanita']\n",
            " [178 'wanita']]\n",
            "\n",
            "X_train_transposed : [[158 170 183 191 155 163 180 158 178]\n",
            " ['pria' 'pria' 'pria' 'pria' 'wanita' 'wanita' 'wanita' 'wanita'\n",
            "  'wanita']]\n"
          ]
        }
      ]
    },
    {
      "cell_type": "code",
      "metadata": {
        "colab": {
          "base_uri": "https://localhost:8080/"
        },
        "id": "bKDITXjACyM1",
        "outputId": "45bb7bca-ce98-4a21-8130-66af3725e884"
      },
      "source": [
        "from sklearn.preprocessing import LabelBinarizer\n",
        "\n",
        "lb=LabelBinarizer()\n",
        "jk_binarised = lb.fit_transform(X_train_transposed[1])\n",
        "\n",
        "print(f' jk: {X_train_transposed[1]}\\n')\n",
        "print(f'jk_binarised : \\n{jk_binarised}')"
      ],
      "execution_count": 17,
      "outputs": [
        {
          "output_type": "stream",
          "name": "stdout",
          "text": [
            " jk: ['pria' 'pria' 'pria' 'pria' 'wanita' 'wanita' 'wanita' 'wanita' 'wanita']\n",
            "\n",
            "jk_binarised : \n",
            "[[0]\n",
            " [0]\n",
            " [0]\n",
            " [0]\n",
            " [1]\n",
            " [1]\n",
            " [1]\n",
            " [1]\n",
            " [1]]\n"
          ]
        }
      ]
    },
    {
      "cell_type": "code",
      "metadata": {
        "colab": {
          "base_uri": "https://localhost:8080/"
        },
        "id": "C8qxxhFBDvCd",
        "outputId": "7d312576-732c-4376-cbbd-2283c722cf51"
      },
      "source": [
        "jk_binarised = jk_binarised.flatten()\n",
        "jk_binarised"
      ],
      "execution_count": 18,
      "outputs": [
        {
          "output_type": "execute_result",
          "data": {
            "text/plain": [
              "array([0, 0, 0, 0, 1, 1, 1, 1, 1])"
            ]
          },
          "metadata": {},
          "execution_count": 18
        }
      ]
    },
    {
      "cell_type": "code",
      "metadata": {
        "id": "qrhnI7MlEwlK",
        "outputId": "448c2038-1b56-40db-9484-985a00746cf3",
        "colab": {
          "base_uri": "https://localhost:8080/"
        }
      },
      "source": [
        "X_train_transposed[1] = jk_binarised\n",
        "X_train = X_train_transposed.transpose()\n",
        "\n",
        "print(f'X_train_transposed : \\n{X_train_transposed}\\n')\n",
        "print(f'X_train: \\n{X_train}')"
      ],
      "execution_count": 19,
      "outputs": [
        {
          "output_type": "stream",
          "name": "stdout",
          "text": [
            "X_train_transposed : \n",
            "[[158 170 183 191 155 163 180 158 178]\n",
            " [0 0 0 0 1 1 1 1 1]]\n",
            "\n",
            "X_train: \n",
            "[[158 0]\n",
            " [170 0]\n",
            " [183 0]\n",
            " [191 0]\n",
            " [155 1]\n",
            " [163 1]\n",
            " [180 1]\n",
            " [158 1]\n",
            " [178 1]]\n"
          ]
        }
      ]
    },
    {
      "cell_type": "markdown",
      "metadata": {
        "id": "KlAsAVusKgyz"
      },
      "source": [
        "Training KNN Regression Model"
      ]
    },
    {
      "cell_type": "code",
      "metadata": {
        "id": "VLyLR85NKkfh",
        "outputId": "b3a397c8-4ebf-4a23-c03d-d8c5359df559",
        "colab": {
          "base_uri": "https://localhost:8080/"
        }
      },
      "source": [
        "from sklearn.neighbors import KNeighborsRegressor\n",
        "\n",
        "K=3\n",
        "model = KNeighborsRegressor(n_neighbors=K)\n",
        "model.fit(X_train,y_train)"
      ],
      "execution_count": 27,
      "outputs": [
        {
          "output_type": "execute_result",
          "data": {
            "text/plain": [
              "KNeighborsRegressor(algorithm='auto', leaf_size=30, metric='minkowski',\n",
              "                    metric_params=None, n_jobs=None, n_neighbors=3, p=2,\n",
              "                    weights='uniform')"
            ]
          },
          "metadata": {},
          "execution_count": 27
        }
      ]
    },
    {
      "cell_type": "markdown",
      "metadata": {
        "id": "FGE1n0FZkywK"
      },
      "source": [
        "Prediksi Berat Badan"
      ]
    },
    {
      "cell_type": "code",
      "metadata": {
        "id": "URpXMQa8k1Lp",
        "outputId": "6c54a654-270d-45d2-88ea-0ccd63d9330d",
        "colab": {
          "base_uri": "https://localhost:8080/"
        }
      },
      "source": [
        "X_new=np.array([[155,1]])\n",
        "X_new"
      ],
      "execution_count": 21,
      "outputs": [
        {
          "output_type": "execute_result",
          "data": {
            "text/plain": [
              "array([[155,   1]])"
            ]
          },
          "metadata": {},
          "execution_count": 21
        }
      ]
    },
    {
      "cell_type": "code",
      "metadata": {
        "id": "duDWt52kk8jw",
        "outputId": "c0c0c6a1-283f-4844-9816-609b7236c181",
        "colab": {
          "base_uri": "https://localhost:8080/"
        }
      },
      "source": [
        "y_pred=model.predict(X_new)\n",
        "y_pred"
      ],
      "execution_count": 22,
      "outputs": [
        {
          "output_type": "execute_result",
          "data": {
            "text/plain": [
              "array([55.66666667])"
            ]
          },
          "metadata": {},
          "execution_count": 22
        }
      ]
    },
    {
      "cell_type": "markdown",
      "metadata": {
        "id": "XvNWketxlVpp"
      },
      "source": [
        "Evaluasi KNN Regresi Model"
      ]
    },
    {
      "cell_type": "code",
      "metadata": {
        "id": "IGZs63jSlZQj",
        "outputId": "2a7a2f25-5faa-456a-ace0-bdd34e3fb7f8",
        "colab": {
          "base_uri": "https://localhost:8080/"
        }
      },
      "source": [
        "X_test = np.array([[168,0],[180,0],[160,1],[169,1]])\n",
        "y_test = np.array([65,96,52,67])\n",
        "\n",
        "print(f'X_test : \\n{X_test}\\n')\n",
        "print(f'y_test:{y_test}')"
      ],
      "execution_count": 23,
      "outputs": [
        {
          "output_type": "stream",
          "name": "stdout",
          "text": [
            "X_test : \n",
            "[[168   0]\n",
            " [180   0]\n",
            " [160   1]\n",
            " [169   1]]\n",
            "\n",
            "y_test:[65 96 52 67]\n"
          ]
        }
      ]
    },
    {
      "cell_type": "code",
      "metadata": {
        "id": "6sCrxU_smG_3",
        "outputId": "392feb07-6fae-4a45-f4a0-e7659f455282",
        "colab": {
          "base_uri": "https://localhost:8080/"
        }
      },
      "source": [
        "y_pred=model.predict(X_test)\n",
        "y_pred"
      ],
      "execution_count": 26,
      "outputs": [
        {
          "output_type": "execute_result",
          "data": {
            "text/plain": [
              "array([69.66666667, 72.66666667, 59.        , 70.66666667])"
            ]
          },
          "metadata": {},
          "execution_count": 26
        }
      ]
    },
    {
      "cell_type": "markdown",
      "metadata": {
        "id": "wpW4UtGAodlh"
      },
      "source": [
        "Coefficient of Determination atau R^2"
      ]
    },
    {
      "cell_type": "code",
      "metadata": {
        "id": "jzAHYt9oo6Fc",
        "outputId": "39ac08bd-3fb3-496b-b38d-2932c1351aa7",
        "colab": {
          "base_uri": "https://localhost:8080/"
        }
      },
      "source": [
        "from sklearn.metrics import r2_score\n",
        "r_squared = r2_score(y_test,y_pred)\n",
        "r_squared"
      ],
      "execution_count": 25,
      "outputs": [
        {
          "output_type": "execute_result",
          "data": {
            "text/plain": [
              "0.39200515796260493"
            ]
          },
          "metadata": {},
          "execution_count": 25
        }
      ]
    },
    {
      "cell_type": "markdown",
      "metadata": {
        "id": "fnXT8ZmQqu04"
      },
      "source": [
        "Mean Absolute Error (MAE)"
      ]
    },
    {
      "cell_type": "code",
      "metadata": {
        "id": "3Cn5c3GlqyHT",
        "outputId": "b7688b1e-acbf-4db5-cb3e-b732a8aa86d3",
        "colab": {
          "base_uri": "https://localhost:8080/"
        }
      },
      "source": [
        "from sklearn.metrics import mean_absolute_error\n",
        "\n",
        "MAE = mean_absolute_error(y_test,y_pred)\n",
        "\n",
        "MAE"
      ],
      "execution_count": 28,
      "outputs": [
        {
          "output_type": "execute_result",
          "data": {
            "text/plain": [
              "9.666666666666668"
            ]
          },
          "metadata": {},
          "execution_count": 28
        }
      ]
    },
    {
      "cell_type": "markdown",
      "metadata": {
        "id": "c1Hiszpnrej6"
      },
      "source": [
        "Mean Square Error MSE"
      ]
    },
    {
      "cell_type": "code",
      "metadata": {
        "id": "rMKTgHvNrd2d",
        "outputId": "f4321af2-0968-4c1c-d7a7-162cd420a66c",
        "colab": {
          "base_uri": "https://localhost:8080/"
        }
      },
      "source": [
        "from sklearn.metrics import mean_squared_error\n",
        "\n",
        "MSE = mean_squared_error(y_test,y_pred)\n",
        "\n",
        "MSE"
      ],
      "execution_count": 29,
      "outputs": [
        {
          "output_type": "execute_result",
          "data": {
            "text/plain": [
              "157.16666666666663"
            ]
          },
          "metadata": {},
          "execution_count": 29
        }
      ]
    },
    {
      "cell_type": "markdown",
      "metadata": {
        "id": "n80UhHK_svlV"
      },
      "source": [
        "Masalah yang dialami pada scaling feature yakni perbedaan satuan dapat berpengaruh pada jarak euclidean. Maka dari itu perlu digunakan standard scaler (atau standar score atau Z Score)\n",
        "\n",
        "\n"
      ]
    },
    {
      "cell_type": "code",
      "metadata": {
        "id": "dAk-npdetMwz"
      },
      "source": [
        "from sklearn.preprocessing import StandardScaler\n",
        "\n",
        "ss=StandardScaler()"
      ],
      "execution_count": 30,
      "outputs": []
    },
    {
      "cell_type": "code",
      "metadata": {
        "id": "tmjYQYVntXiR"
      },
      "source": [
        "#dalam milimeter\n",
        "X_train = np.array([[1700,0],[1600,1]])\n",
        "X_train_scaled = ss.fit_transform(X_train)\n",
        "print(f'X_train scaled : {X_train_scaled}')\n",
        "\n"
      ],
      "execution_count": null,
      "outputs": []
    }
  ]
}