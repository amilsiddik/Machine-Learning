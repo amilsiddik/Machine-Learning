{
  "nbformat": 4,
  "nbformat_minor": 0,
  "metadata": {
    "colab": {
      "name": "04 Simple linear regression.ipynb",
      "provenance": [],
      "toc_visible": true,
      "authorship_tag": "ABX9TyOGOqIFkjyv7RsexD1Sm7aw",
      "include_colab_link": true
    },
    "kernelspec": {
      "name": "python3",
      "display_name": "Python 3"
    },
    "language_info": {
      "name": "python"
    }
  },
  "cells": [
    {
      "cell_type": "markdown",
      "metadata": {
        "id": "view-in-github",
        "colab_type": "text"
      },
      "source": [
        "<a href=\"https://colab.research.google.com/github/amilsiddik/machine-Learning/blob/main/04_Simple_linear_regression.ipynb\" target=\"_parent\"><img src=\"https://colab.research.google.com/assets/colab-badge.svg\" alt=\"Open In Colab\"/></a>"
      ]
    },
    {
      "cell_type": "markdown",
      "metadata": {
        "id": "-d5G5NDhgi2v"
      },
      "source": [
        "# **Simple Linear Regression**"
      ]
    },
    {
      "cell_type": "markdown",
      "metadata": {
        "id": "vIU-CfUgg2oG"
      },
      "source": [
        "Sample dataset"
      ]
    },
    {
      "cell_type": "code",
      "metadata": {
        "colab": {
          "base_uri": "https://localhost:8080/",
          "height": 206
        },
        "id": "JIxnL0WNgiTJ",
        "outputId": "5802a81a-2aaf-4718-f077-abb5bb644cb7"
      },
      "source": [
        "import pandas as pd\n",
        "\n",
        "pizza = {'diameter':[6,8,10,14,18],\n",
        "         'harga':[7,9,13,17.5,18]}\n",
        "pizza_df = pd.DataFrame(pizza)\n",
        "pizza_df"
      ],
      "execution_count": 4,
      "outputs": [
        {
          "output_type": "execute_result",
          "data": {
            "text/html": [
              "<div>\n",
              "<style scoped>\n",
              "    .dataframe tbody tr th:only-of-type {\n",
              "        vertical-align: middle;\n",
              "    }\n",
              "\n",
              "    .dataframe tbody tr th {\n",
              "        vertical-align: top;\n",
              "    }\n",
              "\n",
              "    .dataframe thead th {\n",
              "        text-align: right;\n",
              "    }\n",
              "</style>\n",
              "<table border=\"1\" class=\"dataframe\">\n",
              "  <thead>\n",
              "    <tr style=\"text-align: right;\">\n",
              "      <th></th>\n",
              "      <th>diameter</th>\n",
              "      <th>harga</th>\n",
              "    </tr>\n",
              "  </thead>\n",
              "  <tbody>\n",
              "    <tr>\n",
              "      <th>0</th>\n",
              "      <td>6</td>\n",
              "      <td>7.0</td>\n",
              "    </tr>\n",
              "    <tr>\n",
              "      <th>1</th>\n",
              "      <td>8</td>\n",
              "      <td>9.0</td>\n",
              "    </tr>\n",
              "    <tr>\n",
              "      <th>2</th>\n",
              "      <td>10</td>\n",
              "      <td>13.0</td>\n",
              "    </tr>\n",
              "    <tr>\n",
              "      <th>3</th>\n",
              "      <td>14</td>\n",
              "      <td>17.5</td>\n",
              "    </tr>\n",
              "    <tr>\n",
              "      <th>4</th>\n",
              "      <td>18</td>\n",
              "      <td>18.0</td>\n",
              "    </tr>\n",
              "  </tbody>\n",
              "</table>\n",
              "</div>"
            ],
            "text/plain": [
              "   diameter  harga\n",
              "0         6    7.0\n",
              "1         8    9.0\n",
              "2        10   13.0\n",
              "3        14   17.5\n",
              "4        18   18.0"
            ]
          },
          "metadata": {},
          "execution_count": 4
        }
      ]
    },
    {
      "cell_type": "markdown",
      "metadata": {
        "id": "lpN-Hvkeho-i"
      },
      "source": [
        "Visualisasi Data"
      ]
    },
    {
      "cell_type": "code",
      "metadata": {
        "colab": {
          "base_uri": "https://localhost:8080/",
          "height": 295
        },
        "id": "0nkoRsUPicgX",
        "outputId": "4cdbe793-2a80-4a07-b4f5-1022b8487b41"
      },
      "source": [
        "import matplotlib.pyplot as plt\n",
        "\n",
        "pizza_df.plot(kind='scatter', x='diameter', y='harga')\n",
        "\n",
        "plt.title('Perbandingan diameter dan harga pizza')\n",
        "plt.xlabel('Diameter')\n",
        "plt.ylabel('Harga')\n",
        "plt.xlim(0,25)\n",
        "plt.ylim(0,25)\n",
        "plt.grid(True)\n",
        "plt.show()\n"
      ],
      "execution_count": 5,
      "outputs": [
        {
          "output_type": "display_data",
          "data": {
            "image/png": "[encoded data removed]",
            "text/plain": [
              "<Figure size 432x288 with 1 Axes>"
            ]
          },
          "metadata": {
            "needs_background": "light"
          }
        }
      ]
    },
    {
      "cell_type": "markdown",
      "metadata": {
        "id": "LRR242Q1jmNT"
      },
      "source": [
        "## **Simple Linear Regression Model**"
      ]
    },
    {
      "cell_type": "markdown",
      "metadata": {
        "id": "uGZx6-8ij0pv"
      },
      "source": [
        "Penyesuaian Dataset"
      ]
    },
    {
      "cell_type": "code",
      "metadata": {
        "colab": {
          "base_uri": "https://localhost:8080/"
        },
        "id": "2qScS8cyjsnJ",
        "outputId": "ca5460ef-ff35-4d5c-d549-877ac82a5aa0"
      },
      "source": [
        "import numpy as np\n",
        "\n",
        "X=np.array(pizza_df['diameter'])\n",
        "y=np.array(pizza_df['harga'])\n",
        "\n",
        "print(f'X: {X}')\n",
        "print(f'y: {y}')"
      ],
      "execution_count": 6,
      "outputs": [
        {
          "output_type": "stream",
          "name": "stdout",
          "text": [
            "X: [ 6  8 10 14 18]\n",
            "y: [ 7.   9.  13.  17.5 18. ]\n"
          ]
        }
      ]
    },
    {
      "cell_type": "code",
      "metadata": {
        "colab": {
          "base_uri": "https://localhost:8080/"
        },
        "id": "pgxcL5_Cj9aE",
        "outputId": "3610ac1e-2efa-4fbf-b07a-10b347c200ff"
      },
      "source": [
        "X=X.reshape(-1,1)\n",
        "X.shape"
      ],
      "execution_count": 7,
      "outputs": [
        {
          "output_type": "execute_result",
          "data": {
            "text/plain": [
              "(5, 1)"
            ]
          },
          "metadata": {},
          "execution_count": 7
        }
      ]
    },
    {
      "cell_type": "code",
      "metadata": {
        "colab": {
          "base_uri": "https://localhost:8080/"
        },
        "id": "2TxDce_llBDV",
        "outputId": "bc7836c3-a0ce-45cf-b032-6c53733c3b18"
      },
      "source": [
        "X"
      ],
      "execution_count": 8,
      "outputs": [
        {
          "output_type": "execute_result",
          "data": {
            "text/plain": [
              "array([[ 6],\n",
              "       [ 8],\n",
              "       [10],\n",
              "       [14],\n",
              "       [18]])"
            ]
          },
          "metadata": {},
          "execution_count": 8
        }
      ]
    },
    {
      "cell_type": "markdown",
      "metadata": {
        "id": "9Z3kyW-TlR0J"
      },
      "source": [
        "Training Simple Linear Regression Model"
      ]
    },
    {
      "cell_type": "code",
      "metadata": {
        "colab": {
          "base_uri": "https://localhost:8080/"
        },
        "id": "-HaOx6bUlXXC",
        "outputId": "5b08c11c-0ed8-405f-91ea-fdf59a9a6194"
      },
      "source": [
        "from sklearn.linear_model import LinearRegression\n",
        "\n",
        "model = LinearRegression()\n",
        "model.fit(X,y)"
      ],
      "execution_count": 9,
      "outputs": [
        {
          "output_type": "execute_result",
          "data": {
            "text/plain": [
              "LinearRegression(copy_X=True, fit_intercept=True, n_jobs=None, normalize=False)"
            ]
          },
          "metadata": {},
          "execution_count": 9
        }
      ]
    },
    {
      "cell_type": "markdown",
      "metadata": {
        "id": "ft5Yf5X9l5J9"
      },
      "source": [
        "Visualisasi Simple Linear Regression Model"
      ]
    },
    {
      "cell_type": "code",
      "metadata": {
        "id": "eEQehqxql_L_"
      },
      "source": [
        "X_vis = np.array([0,25]).reshape(-1,1)\n",
        "y_vis=model.predict(X_vis)"
      ],
      "execution_count": 10,
      "outputs": []
    },
    {
      "cell_type": "code",
      "metadata": {
        "colab": {
          "base_uri": "https://localhost:8080/",
          "height": 295
        },
        "id": "d5beuUcpmUxX",
        "outputId": "30e004b5-2ef2-45b0-b2ff-314805a0e90a"
      },
      "source": [
        "plt.scatter(X,y)\n",
        "plt.plot(X_vis,y_vis,'-r')\n",
        "plt.title('Perbandingan diameter dan harga pizza')\n",
        "plt.xlabel('diameter')\n",
        "plt.ylabel('harga')\n",
        "plt.xlim(0,25)\n",
        "plt.ylim(0,25)\n",
        "plt.grid(True)\n",
        "plt.show()"
      ],
      "execution_count": 11,
      "outputs": [
        {
          "output_type": "display_data",
          "data": {
            "image/png": "[encoded data removed]",
            "text/plain": [
              "<Figure size 432x288 with 1 Axes>"
            ]
          },
          "metadata": {
            "needs_background": "light"
          }
        }
      ]
    },
    {
      "cell_type": "markdown",
      "metadata": {
        "id": "G9gkT539n2Zp"
      },
      "source": [
        "**Formula Regresi Linear : y= a+bx**\n",
        "y=variabel respon\n",
        "x=variabel bebas\n",
        "a=intercept\n",
        "b=kemiringan\n"
      ]
    },
    {
      "cell_type": "code",
      "metadata": {
        "colab": {
          "base_uri": "https://localhost:8080/"
        },
        "id": "-HukzMt0oWRL",
        "outputId": "c868fba7-d03d-46e7-c38e-e23eeb0a03ab"
      },
      "source": [
        "print(f'intercept:{model.intercept_}')\n",
        "print(f'slope:{model.coef_}')"
      ],
      "execution_count": 12,
      "outputs": [
        {
          "output_type": "stream",
          "name": "stdout",
          "text": [
            "intercept:1.965517241379315\n",
            "slope:[0.9762931]\n"
          ]
        }
      ]
    },
    {
      "cell_type": "markdown",
      "metadata": {
        "id": "DPoZGZLMo92q"
      },
      "source": [
        "**Mencari nilai slope**  rumus nilai slope b=(covariance(x,y))/var(x))"
      ]
    },
    {
      "cell_type": "code",
      "metadata": {
        "colab": {
          "base_uri": "https://localhost:8080/"
        },
        "id": "Jn0NatMVpOCD",
        "outputId": "ad16dbd1-9a47-4d9a-8df4-7b8a494f29f2"
      },
      "source": [
        "print(f'X:\\n{X}\\n')\n",
        "print(f'X flatten: {X.flatten()}\\n')\n",
        "print(f'y:{y}')"
      ],
      "execution_count": 13,
      "outputs": [
        {
          "output_type": "stream",
          "name": "stdout",
          "text": [
            "X:\n",
            "[[ 6]\n",
            " [ 8]\n",
            " [10]\n",
            " [14]\n",
            " [18]]\n",
            "\n",
            "X flatten: [ 6  8 10 14 18]\n",
            "\n",
            "y:[ 7.   9.  13.  17.5 18. ]\n"
          ]
        }
      ]
    },
    {
      "cell_type": "markdown",
      "metadata": {
        "id": "J8KMB6fJxkgz"
      },
      "source": [
        "**Perhitungan Manual**"
      ]
    },
    {
      "cell_type": "markdown",
      "metadata": {
        "id": "NsvBJvq2xtIU"
      },
      "source": [
        "**Mencari nilai slope**"
      ]
    },
    {
      "cell_type": "markdown",
      "metadata": {
        "id": "iaQDxelFqDG8"
      },
      "source": [
        "Variansi"
      ]
    },
    {
      "cell_type": "code",
      "metadata": {
        "colab": {
          "base_uri": "https://localhost:8080/"
        },
        "id": "qF74QRRXqEUl",
        "outputId": "709e9d0a-adbc-4e02-859e-4f61f69d4a94"
      },
      "source": [
        "variance_x=np.var(X.flatten(), ddof=1)\n",
        "print(f'variance: {variance_x}')"
      ],
      "execution_count": 14,
      "outputs": [
        {
          "output_type": "stream",
          "name": "stdout",
          "text": [
            "variance: 23.2\n"
          ]
        }
      ]
    },
    {
      "cell_type": "markdown",
      "metadata": {
        "id": "aH9vKx1xsbCo"
      },
      "source": [
        "Covariance"
      ]
    },
    {
      "cell_type": "code",
      "metadata": {
        "colab": {
          "base_uri": "https://localhost:8080/"
        },
        "id": "CoX2vR7_sdNK",
        "outputId": "c43ba831-cf87-4731-f85d-ef8da1ae5825"
      },
      "source": [
        "np.cov(X.flatten(),y)"
      ],
      "execution_count": 15,
      "outputs": [
        {
          "output_type": "execute_result",
          "data": {
            "text/plain": [
              "array([[23.2 , 22.65],\n",
              "       [22.65, 24.3 ]])"
            ]
          },
          "metadata": {},
          "execution_count": 15
        }
      ]
    },
    {
      "cell_type": "code",
      "metadata": {
        "colab": {
          "base_uri": "https://localhost:8080/"
        },
        "id": "J0J4j64tspAS",
        "outputId": "0f6e3dd4-2471-498c-bb8c-a5c1e05c41af"
      },
      "source": [
        "covvariance_xy=np.cov(X.flatten(),y)[0][1]\n",
        "print(f'kofarians:{covvariance_xy}')"
      ],
      "execution_count": 16,
      "outputs": [
        {
          "output_type": "stream",
          "name": "stdout",
          "text": [
            "kofarians:22.650000000000002\n"
          ]
        }
      ]
    },
    {
      "cell_type": "markdown",
      "metadata": {
        "id": "Ee52r2tuu3l3"
      },
      "source": [
        "Slope"
      ]
    },
    {
      "cell_type": "code",
      "metadata": {
        "colab": {
          "base_uri": "https://localhost:8080/"
        },
        "id": "qH39HWFEu5SZ",
        "outputId": "0d0abe60-8afd-4adb-d7f0-259f148136cb"
      },
      "source": [
        "slope =covvariance_xy/variance_x\n",
        "print(f'slope: {slope}')"
      ],
      "execution_count": 17,
      "outputs": [
        {
          "output_type": "stream",
          "name": "stdout",
          "text": [
            "slope: 0.976293103448276\n"
          ]
        }
      ]
    },
    {
      "cell_type": "markdown",
      "metadata": {
        "id": "zhJhlb2kvsIg"
      },
      "source": [
        "**Mencari nilai intercept** a=y_bar-bx_bar"
      ]
    },
    {
      "cell_type": "code",
      "metadata": {
        "colab": {
          "base_uri": "https://localhost:8080/"
        },
        "id": "Z5vIOgLav3ka",
        "outputId": "fbe5c4f1-ca5b-42f7-ee97-d587119a110c"
      },
      "source": [
        "intercept=np.mean(y)-slope*np.mean(X)\n",
        "print(f'intercept: {intercept}')"
      ],
      "execution_count": 18,
      "outputs": [
        {
          "output_type": "stream",
          "name": "stdout",
          "text": [
            "intercept: 1.9655172413793096\n"
          ]
        }
      ]
    },
    {
      "cell_type": "markdown",
      "metadata": {
        "id": "HXmXiaKKyKwv"
      },
      "source": [
        "##**Prediksi Harga**"
      ]
    },
    {
      "cell_type": "code",
      "metadata": {
        "colab": {
          "base_uri": "https://localhost:8080/"
        },
        "id": "qiwFqg7wyQaK",
        "outputId": "70c24e7e-654e-4157-9f36-825fdf954c5f"
      },
      "source": [
        "diameter_pizza=np.array([12,20,23]).reshape(-1,1)\n",
        "diameter_pizza"
      ],
      "execution_count": 19,
      "outputs": [
        {
          "output_type": "execute_result",
          "data": {
            "text/plain": [
              "array([[12],\n",
              "       [20],\n",
              "       [23]])"
            ]
          },
          "metadata": {},
          "execution_count": 19
        }
      ]
    },
    {
      "cell_type": "code",
      "metadata": {
        "colab": {
          "base_uri": "https://localhost:8080/"
        },
        "id": "pQy32sDoyhZ7",
        "outputId": "2865c201-97eb-4851-d1fc-7c17b1d8a4c3"
      },
      "source": [
        "prediksi_harga = model.predict(diameter_pizza)\n",
        "prediksi_harga"
      ],
      "execution_count": 20,
      "outputs": [
        {
          "output_type": "execute_result",
          "data": {
            "text/plain": [
              "array([13.68103448, 21.49137931, 24.42025862])"
            ]
          },
          "metadata": {},
          "execution_count": 20
        }
      ]
    },
    {
      "cell_type": "code",
      "metadata": {
        "colab": {
          "base_uri": "https://localhost:8080/"
        },
        "id": "mj_MW5tUy3It",
        "outputId": "bc768048-45e3-48a0-d9b8-201bea1c4964"
      },
      "source": [
        "for dmtr, hrg in zip(diameter_pizza, prediksi_harga):\n",
        "    print(f'Diamater : {dmtr} prediksi harga : {hrg}')"
      ],
      "execution_count": 21,
      "outputs": [
        {
          "output_type": "stream",
          "name": "stdout",
          "text": [
            "Diamater : [12] prediksi harga : 13.681034482758621\n",
            "Diamater : [20] prediksi harga : 21.491379310344826\n",
            "Diamater : [23] prediksi harga : 24.42025862068965\n"
          ]
        }
      ]
    },
    {
      "cell_type": "markdown",
      "metadata": {
        "id": "STMjLtVyUqNO"
      },
      "source": [
        "## **Evaluasi Simple Linear Regression Model**"
      ]
    },
    {
      "cell_type": "markdown",
      "metadata": {
        "id": "BLUAdsAiUyto"
      },
      "source": [
        "Training & Testing Dataset"
      ]
    },
    {
      "cell_type": "code",
      "metadata": {
        "id": "y6NiWoN2U33k"
      },
      "source": [
        "X_train = np.array([6,8,10,14,18]).reshape(-1, 1)\n",
        "y_train = np.array([7,9,13,17.5,18])\n",
        "\n",
        "X_test = np.array([8,9,11,16,12]).reshape(-1,1)\n",
        "y_test = np.array([11,8.5,15,18,11])"
      ],
      "execution_count": 23,
      "outputs": []
    },
    {
      "cell_type": "markdown",
      "metadata": {
        "id": "mn_p9FlMYqZ6"
      },
      "source": [
        "Training Simple Linear Regression Model"
      ]
    },
    {
      "cell_type": "code",
      "metadata": {
        "colab": {
          "base_uri": "https://localhost:8080/"
        },
        "id": "gvPZTIC6YxBG",
        "outputId": "89680256-ad6a-411e-90d1-8af6f34d907a"
      },
      "source": [
        "model = LinearRegression()\n",
        "model.fit(X_train,y_train)"
      ],
      "execution_count": 24,
      "outputs": [
        {
          "output_type": "execute_result",
          "data": {
            "text/plain": [
              "LinearRegression(copy_X=True, fit_intercept=True, n_jobs=None, normalize=False)"
            ]
          },
          "metadata": {},
          "execution_count": 24
        }
      ]
    },
    {
      "cell_type": "markdown",
      "metadata": {
        "id": "5zEPzEWfZMTv"
      },
      "source": [
        "Evaluasi Linear Regression Model dengan Coefficient of Determination atau R-Square(R2)"
      ]
    },
    {
      "cell_type": "code",
      "metadata": {
        "colab": {
          "base_uri": "https://localhost:8080/"
        },
        "id": "RgVodndyZVTq",
        "outputId": "f72a116b-ee65-4afe-e02e-be3511540dfe"
      },
      "source": [
        "from sklearn.metrics import r2_score\n",
        "y_pred = model.predict(X_test)\n",
        "r_squared = r2_score(y_test, y_pred)\n",
        "print(f'R-squared: {r_squared}')"
      ],
      "execution_count": 25,
      "outputs": [
        {
          "output_type": "stream",
          "name": "stdout",
          "text": [
            "R-squared: 0.6620052929422553\n"
          ]
        }
      ]
    },
    {
      "cell_type": "markdown",
      "metadata": {
        "id": "uhIsfelHbesd"
      },
      "source": [
        "Mencari nilai R-Squared(R^2) **(MANUAL)**"
      ]
    },
    {
      "cell_type": "markdown",
      "metadata": {
        "id": "6qnB9I9lbjgx"
      },
      "source": [
        "R^2=1-(SS_res/SS_tot)"
      ]
    },
    {
      "cell_type": "markdown",
      "metadata": {
        "id": "Ur0xWaS_bpKB"
      },
      "source": [
        "SS_res=sigma(yi-f(xi))^2"
      ]
    },
    {
      "cell_type": "markdown",
      "metadata": {
        "id": "wYz1MQmRb2Pv"
      },
      "source": [
        "SS_tot=sigma(yi-y_bar)^2"
      ]
    },
    {
      "cell_type": "markdown",
      "metadata": {
        "id": "02oFWGenb8hJ"
      },
      "source": [
        "*SS_res*"
      ]
    },
    {
      "cell_type": "code",
      "metadata": {
        "colab": {
          "base_uri": "https://localhost:8080/"
        },
        "id": "DNFBal7ucFXb",
        "outputId": "7d237c1f-bde3-4b5a-c2fb-a4cb6ad1a374"
      },
      "source": [
        "ss_res=sum([(y_i-model.predict(x_i.reshape(-1,1))[0])**2\n",
        "            for x_i,y_i in zip(X_test,y_test)])\n",
        "print(f'ss_res: {ss_res}')"
      ],
      "execution_count": 26,
      "outputs": [
        {
          "output_type": "stream",
          "name": "stdout",
          "text": [
            "ss_res: 19.1980993608799\n"
          ]
        }
      ]
    },
    {
      "cell_type": "markdown",
      "metadata": {
        "id": "mGeJVDLBcvDH"
      },
      "source": [
        "*SS_tot*"
      ]
    },
    {
      "cell_type": "code",
      "metadata": {
        "colab": {
          "base_uri": "https://localhost:8080/"
        },
        "id": "p4w1m-0EcxjR",
        "outputId": "d594238f-3aba-4968-cd1c-54a8da83bc24"
      },
      "source": [
        "mean_y=np.mean(y_test)\n",
        "ss_tot=sum([(y_i-mean_y)**2 for y_i in y_test])\n",
        "print(f'ss_tot : {ss_tot}')"
      ],
      "execution_count": 28,
      "outputs": [
        {
          "output_type": "stream",
          "name": "stdout",
          "text": [
            "ss_tot : 56.8\n"
          ]
        }
      ]
    },
    {
      "cell_type": "markdown",
      "metadata": {
        "id": "nq-ls3cOdiYM"
      },
      "source": [
        "*R-Square*"
      ]
    },
    {
      "cell_type": "code",
      "metadata": {
        "colab": {
          "base_uri": "https://localhost:8080/"
        },
        "id": "zj6CVtP3dk3G",
        "outputId": "a6e2bd23-6492-4565-d944-634f286a4c1c"
      },
      "source": [
        "r_squared=1-(ss_res/ss_tot)\n",
        "print(f'r_squared : {r_squared}')"
      ],
      "execution_count": 29,
      "outputs": [
        {
          "output_type": "stream",
          "name": "stdout",
          "text": [
            "r_squared : 0.6620052929422553\n"
          ]
        }
      ]
    }
  ]
}